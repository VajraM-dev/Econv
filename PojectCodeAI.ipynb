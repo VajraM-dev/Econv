{
  "metadata": {
    "kernelspec": {
      "language": "python",
      "display_name": "Python 3",
      "name": "python3"
    },
    "language_info": {
      "pygments_lexer": "ipython3",
      "nbconvert_exporter": "python",
      "version": "3.6.4",
      "file_extension": ".py",
      "codemirror_mode": {
        "name": "ipython",
        "version": 3
      },
      "name": "python",
      "mimetype": "text/x-python"
    },
    "colab": {
      "name": "PojectCodeAI.ipynb",
      "provenance": [],
      "collapsed_sections": [
        "5esfE24wFMta",
        "iGphA2o7FMtc",
        "7ekkTiwjFMte",
        "dRw4xEPsFMti",
        "xn9Kpi7iFMtj",
        "4yS0-xIrFMtm",
        "I8fARhELFMtn"
      ]
    }
  },
  "nbformat_minor": 0,
  "nbformat": 4,
  "cells": [
    {
      "cell_type": "code",
      "source": [
        "import numpy as np # linear algebra\n",
        "import pandas as pd # data processing, CSV file I/O (e.g. pd.read_csv)\n",
        "\n",
        "\n",
        "import os\n",
        "os.environ['TF_CPP_MIN_LOG_LEVEL'] = '2'"
      ],
      "metadata": {
        "_uuid": "8f2839f25d086af736a60e9eeb907d3b93b6e0e5",
        "_cell_guid": "b1076dfc-b9ad-4769-8c92-a6c4dae69d19",
        "execution": {
          "iopub.status.busy": "2022-06-04T11:33:55.645656Z",
          "iopub.execute_input": "2022-06-04T11:33:55.645971Z",
          "iopub.status.idle": "2022-06-04T11:33:55.672905Z",
          "shell.execute_reply.started": "2022-06-04T11:33:55.645892Z",
          "shell.execute_reply": "2022-06-04T11:33:55.672275Z"
        },
        "trusted": true,
        "id": "02VOMSHcFMtN"
      },
      "execution_count": null,
      "outputs": []
    },
    {
      "cell_type": "markdown",
      "source": [
        "# Importing Libraries"
      ],
      "metadata": {
        "id": "MsLdiTkiFMtR"
      }
    },
    {
      "cell_type": "code",
      "source": [
        "pip install split-folders"
      ],
      "metadata": {
        "execution": {
          "iopub.status.busy": "2022-06-04T11:33:57.390554Z",
          "iopub.execute_input": "2022-06-04T11:33:57.390817Z",
          "iopub.status.idle": "2022-06-04T11:34:08.02793Z",
          "shell.execute_reply.started": "2022-06-04T11:33:57.390789Z",
          "shell.execute_reply": "2022-06-04T11:34:08.027075Z"
        },
        "trusted": true,
        "id": "_bBrdbbKFMtT"
      },
      "execution_count": null,
      "outputs": []
    },
    {
      "cell_type": "code",
      "source": [
        "# importing libraries\n",
        "import seaborn as sns\n",
        "import matplotlib.pyplot as plt\n",
        "from tensorflow.keras.preprocessing.image import ImageDataGenerator\n",
        "from tensorflow.keras.preprocessing import image\n",
        "from matplotlib.image import imread\n",
        "import tensorflow as tf\n",
        "from tensorflow.keras.models import Sequential\n",
        "from tensorflow.keras.layers import Dense, Conv2D, MaxPool2D, MaxPooling2D, Dropout, Flatten, BatchNormalization, ZeroPadding2D\n",
        "from tensorflow.keras.callbacks import EarlyStopping\n",
        "\n",
        "from keras.models import load_model\n",
        "from sklearn.metrics import accuracy_score\n",
        "import matplotlib.pyplot as plt\n",
        "import numpy as np\n",
        "from sklearn import metrics\n",
        "from sklearn.metrics import classification_report\n",
        "from sklearn.metrics import confusion_matrix, plot_confusion_matrix\n",
        "import seaborn as sns"
      ],
      "metadata": {
        "execution": {
          "iopub.status.busy": "2022-06-04T14:07:31.782631Z",
          "iopub.execute_input": "2022-06-04T14:07:31.783302Z",
          "iopub.status.idle": "2022-06-04T14:07:37.802252Z",
          "shell.execute_reply.started": "2022-06-04T14:07:31.783267Z",
          "shell.execute_reply": "2022-06-04T14:07:37.801498Z"
        },
        "trusted": true,
        "id": "xaH8Y_BpFMtU"
      },
      "execution_count": null,
      "outputs": []
    },
    {
      "cell_type": "markdown",
      "source": [
        "# Importing Data"
      ],
      "metadata": {
        "id": "888Lzdo6FMtV"
      }
    },
    {
      "cell_type": "code",
      "source": [
        "# path for main dataset\n",
        "data = \"../input/cell-images-for-detecting-malaria/cell_images/cell_images/\"\n",
        "os.listdir(data)"
      ],
      "metadata": {
        "execution": {
          "iopub.status.busy": "2022-06-04T11:34:13.877002Z",
          "iopub.execute_input": "2022-06-04T11:34:13.877328Z",
          "iopub.status.idle": "2022-06-04T11:34:13.897381Z",
          "shell.execute_reply.started": "2022-06-04T11:34:13.877293Z",
          "shell.execute_reply": "2022-06-04T11:34:13.896459Z"
        },
        "trusted": true,
        "id": "VecoHhSzFMtV"
      },
      "execution_count": null,
      "outputs": []
    },
    {
      "cell_type": "code",
      "source": [
        "# visualizing a test images\n",
        "img = imread(data+\"/Parasitized\"+\"/C99P60ThinF_IMG_20150918_141001_cell_93.png\")"
      ],
      "metadata": {
        "execution": {
          "iopub.status.busy": "2022-06-04T11:34:13.901715Z",
          "iopub.execute_input": "2022-06-04T11:34:13.902446Z",
          "iopub.status.idle": "2022-06-04T11:34:13.919642Z",
          "shell.execute_reply.started": "2022-06-04T11:34:13.902407Z",
          "shell.execute_reply": "2022-06-04T11:34:13.918968Z"
        },
        "trusted": true,
        "id": "3foThsvkFMtW"
      },
      "execution_count": null,
      "outputs": []
    },
    {
      "cell_type": "code",
      "source": [
        "# shape of the image\n",
        "img.shape"
      ],
      "metadata": {
        "execution": {
          "iopub.status.busy": "2022-06-04T11:34:13.920809Z",
          "iopub.execute_input": "2022-06-04T11:34:13.921225Z",
          "iopub.status.idle": "2022-06-04T11:34:13.926947Z",
          "shell.execute_reply.started": "2022-06-04T11:34:13.921175Z",
          "shell.execute_reply": "2022-06-04T11:34:13.926039Z"
        },
        "trusted": true,
        "id": "BnE7mhCBFMtW"
      },
      "execution_count": null,
      "outputs": []
    },
    {
      "cell_type": "code",
      "source": [
        "# setting image shape\n",
        "image_shape = (130, 130, 3)"
      ],
      "metadata": {
        "execution": {
          "iopub.status.busy": "2022-06-04T11:34:13.928535Z",
          "iopub.execute_input": "2022-06-04T11:34:13.929216Z",
          "iopub.status.idle": "2022-06-04T11:34:13.934855Z",
          "shell.execute_reply.started": "2022-06-04T11:34:13.929174Z",
          "shell.execute_reply": "2022-06-04T11:34:13.933862Z"
        },
        "trusted": true,
        "id": "Ow_REgWIFMtX"
      },
      "execution_count": null,
      "outputs": []
    },
    {
      "cell_type": "code",
      "source": [
        "# displaying an image.\n",
        "plt.imshow(img)"
      ],
      "metadata": {
        "execution": {
          "iopub.status.busy": "2022-06-04T11:34:13.945583Z",
          "iopub.execute_input": "2022-06-04T11:34:13.946167Z",
          "iopub.status.idle": "2022-06-04T11:34:14.2983Z",
          "shell.execute_reply.started": "2022-06-04T11:34:13.946133Z",
          "shell.execute_reply": "2022-06-04T11:34:14.297469Z"
        },
        "trusted": true,
        "id": "UbIIUAkAFMtX"
      },
      "execution_count": null,
      "outputs": []
    },
    {
      "cell_type": "markdown",
      "source": [
        "# Pre-processing Data"
      ],
      "metadata": {
        "id": "7Me8G2oBFMtY"
      }
    },
    {
      "cell_type": "code",
      "source": [
        "# setting a batch size\n",
        "batch_size=32"
      ],
      "metadata": {
        "execution": {
          "iopub.status.busy": "2022-06-04T11:34:14.301878Z",
          "iopub.execute_input": "2022-06-04T11:34:14.302217Z",
          "iopub.status.idle": "2022-06-04T11:34:14.309063Z",
          "shell.execute_reply.started": "2022-06-04T11:34:14.302177Z",
          "shell.execute_reply": "2022-06-04T11:34:14.308392Z"
        },
        "trusted": true,
        "id": "u1k8fNrsFMtY"
      },
      "execution_count": null,
      "outputs": []
    },
    {
      "cell_type": "code",
      "source": [
        "# splitting the data directory into training, validation and testing sets.\n",
        "import splitfolders \n",
        "splitfolders.ratio(data, output=\"split_data\", \n",
        "                   seed=42, ratio=(.8, .1, .1), \n",
        "                   group_prefix=None)"
      ],
      "metadata": {
        "execution": {
          "iopub.status.busy": "2022-06-04T11:34:18.72612Z",
          "iopub.execute_input": "2022-06-04T11:34:18.726585Z",
          "iopub.status.idle": "2022-06-04T11:37:54.099967Z",
          "shell.execute_reply.started": "2022-06-04T11:34:18.726547Z",
          "shell.execute_reply": "2022-06-04T11:37:54.099246Z"
        },
        "trusted": true,
        "id": "Ml-pXCAlFMtY"
      },
      "execution_count": null,
      "outputs": []
    },
    {
      "cell_type": "code",
      "source": [
        "# the paths for the data directorys\n",
        "training_gen_path = './split_data/train'\n",
        "testing_gen_path = './split_data/test'\n",
        "validation_gen_path = './split_data/val'\n",
        "\n",
        "# image preprocessing and setting up splited data for training the models.\n",
        "image_gen = ImageDataGenerator()\n",
        "bal_train_image_gen = image_gen.flow_from_directory(training_gen_path,\n",
        "                                               target_size=(130, 130),\n",
        "                                               color_mode=\"rgb\",\n",
        "                                               batch_size=batch_size,\n",
        "                                               class_mode=\"binary\",\n",
        "                                               shuffle=False)\n",
        "\n",
        "bal_test_image_gen = image_gen.flow_from_directory(validation_gen_path,\n",
        "                                               target_size=(130, 130),\n",
        "                                               color_mode=\"rgb\",\n",
        "                                               batch_size=batch_size,\n",
        "                                               class_mode=\"binary\",\n",
        "                                              shuffle=False)"
      ],
      "metadata": {
        "execution": {
          "iopub.status.busy": "2022-06-04T11:37:54.101668Z",
          "iopub.execute_input": "2022-06-04T11:37:54.101909Z",
          "iopub.status.idle": "2022-06-04T11:37:55.482595Z",
          "shell.execute_reply.started": "2022-06-04T11:37:54.101873Z",
          "shell.execute_reply": "2022-06-04T11:37:55.481906Z"
        },
        "trusted": true,
        "id": "D1GNXE3cFMtZ"
      },
      "execution_count": null,
      "outputs": []
    },
    {
      "cell_type": "markdown",
      "source": [
        "# Building Models"
      ],
      "metadata": {
        "id": "C58XtF9eFMtZ"
      }
    },
    {
      "cell_type": "code",
      "source": [
        "# defining a callback earlystopping\n",
        "# this helps us stop the training if the loss is increasing.\n",
        "early_stop = EarlyStopping(monitor=\"val_loss\", patience=2)"
      ],
      "metadata": {
        "execution": {
          "iopub.status.busy": "2022-06-04T11:37:55.483854Z",
          "iopub.execute_input": "2022-06-04T11:37:55.484112Z",
          "iopub.status.idle": "2022-06-04T11:37:55.490277Z",
          "shell.execute_reply.started": "2022-06-04T11:37:55.484077Z",
          "shell.execute_reply": "2022-06-04T11:37:55.487587Z"
        },
        "trusted": true,
        "id": "wpsLVIyOFMta"
      },
      "execution_count": null,
      "outputs": []
    },
    {
      "cell_type": "markdown",
      "source": [
        "### Evaluation Function"
      ],
      "metadata": {
        "id": "5esfE24wFMta"
      }
    },
    {
      "cell_type": "code",
      "source": [
        "# defining the a class for evalution.\n",
        "# this class is used to make prediction and return all the evaluation metrics like classification report\n",
        "# ROC curve, Confusion matrix, amount of misclassified data. \n",
        "plt.rcParams[\"figure.figsize\"] = (10,10)\n",
        "class evaluate_model:\n",
        "    def __init__(self, model, images, estimator_name):\n",
        "        self.model = model\n",
        "        self.images = images\n",
        "        self.estimator_name = estimator_name\n",
        "        \n",
        "    # used for making predictions\n",
        "    def create_preds(self):\n",
        "        pred = self.model.predict(self.images)\n",
        "        self.prediction = []\n",
        "        for i in pred:\n",
        "            if i > 0.5:\n",
        "                self.prediction.append(1)\n",
        "            else:\n",
        "                self.prediction.append(0)\n",
        "\n",
        "        return self.prediction\n",
        "    \n",
        "    # plotting roc curve\n",
        "    def plot_roc_curve(self):\n",
        "        y = self.images.labels\n",
        "        pred = self.prediction\n",
        "        fpr, tpr, thresholds = metrics.roc_curve(y, pred)\n",
        "        roc_auc = metrics.auc(fpr, tpr)\n",
        "        display = metrics.RocCurveDisplay(fpr=fpr, tpr=tpr, roc_auc=roc_auc,estimator_name=self.estimator_name)\n",
        "        display.plot()\n",
        "        plt.show()\n",
        "    \n",
        "    # building confusion matrix\n",
        "    def get_cm(self):\n",
        "        cm = confusion_matrix(self.images.labels, self.prediction)\n",
        "        print(cm)\n",
        "        fig, ax = plt.subplots(figsize=(12,12))\n",
        "        sns.set(font_scale=1.6)\n",
        "        sns.heatmap(cm, annot=True, linewidths=.5, ax=ax)\n",
        "    \n",
        "    # percent of misclassified data for each class\n",
        "    def percent_incorrect_classification(self):\n",
        "        cm = confusion_matrix(self.images.labels, self.prediction)\n",
        "        incorr_fraction = 1 - np.diag(cm) / np.sum(cm, axis=1)\n",
        "        fig, ax = plt.subplots(figsize=(12,12))\n",
        "        plt.bar(np.arange(2), incorr_fraction)\n",
        "        plt.xlabel('True Label')\n",
        "        plt.ylabel('Fraction of incorrect predictions')\n",
        "        plt.xticks(np.arange(2), self.images.class_indices)\n",
        "        \n",
        "    def evaluate(self):\n",
        "        preds = self.create_preds()\n",
        "        print('Accuracy of Model is: ',accuracy_score(self.images.labels, preds))\n",
        "        \n",
        "        print(\"\\n\")\n",
        "        print(\"Classification Report\")\n",
        "        print(classification_report(self.images.labels, preds, target_names=self.images.class_indices))\n",
        "        \n",
        "        print(\"\\n\")\n",
        "        print(\"ROC Curve\")\n",
        "        self.plot_roc_curve()\n",
        "        \n",
        "        print(\"\\n\")\n",
        "        print(\"Confusion Matrix and Incorrect Classifications\")\n",
        "        self.get_cm()\n",
        "        print(\"\\n\")\n",
        "        self.percent_incorrect_classification()"
      ],
      "metadata": {
        "execution": {
          "iopub.status.busy": "2022-06-04T11:37:55.492884Z",
          "iopub.execute_input": "2022-06-04T11:37:55.493576Z",
          "iopub.status.idle": "2022-06-04T11:37:55.512305Z",
          "shell.execute_reply.started": "2022-06-04T11:37:55.493518Z",
          "shell.execute_reply": "2022-06-04T11:37:55.511383Z"
        },
        "trusted": true,
        "id": "4v9G5eeVFMtb"
      },
      "execution_count": null,
      "outputs": []
    },
    {
      "cell_type": "code",
      "source": [
        "# setting up weights for each class in case there are any imbalances in the data.\n",
        "from sklearn.utils import class_weight\n",
        "import numpy as np\n",
        "\n",
        "class_weights = class_weight.compute_class_weight(\n",
        "                                        class_weight = \"balanced\",\n",
        "                                        classes = np.unique(bal_train_image_gen.classes),\n",
        "                                        y = bal_train_image_gen.classes                                                    \n",
        "                                    )\n",
        "train_class_weights = dict(enumerate(class_weights))"
      ],
      "metadata": {
        "execution": {
          "iopub.status.busy": "2022-06-04T11:37:55.513713Z",
          "iopub.execute_input": "2022-06-04T11:37:55.514418Z",
          "iopub.status.idle": "2022-06-04T11:37:55.533458Z",
          "shell.execute_reply.started": "2022-06-04T11:37:55.514375Z",
          "shell.execute_reply": "2022-06-04T11:37:55.532558Z"
        },
        "trusted": true,
        "id": "3bP-PNTcFMtc"
      },
      "execution_count": null,
      "outputs": []
    },
    {
      "cell_type": "markdown",
      "source": [
        "### Optimization function"
      ],
      "metadata": {
        "id": "iGphA2o7FMtc"
      }
    },
    {
      "cell_type": "code",
      "source": [
        "# a grid containing losses and optimizers.\n",
        "losses = ['binary_crossentropy', 'hinge']\n",
        "optimizer = ['adam', 'SGD', 'RMSprop']\n",
        "\n",
        "# function to run a grid search to get the best combination of loss function and optimizer.\n",
        "def optimize(model):\n",
        "    for i in losses:\n",
        "        for j in optimizer:\n",
        "            model.compile(loss=i, optimizer=j, metrics=[\"accuracy\"])\n",
        "\n",
        "            results = model.fit(bal_train_image_gen,\n",
        "                                         epochs=10,\n",
        "                                         validation_data=bal_test_image_gen,\n",
        "                                         callbacks=[early_stop],\n",
        "                                         verbose = 0, class_weight=train_class_weights)\n",
        "\n",
        "            e = evaluate_model(model, test_image_gen, 'model 1')\n",
        "            preds = e.create_preds()\n",
        "            print('Loss = ' + i + ' ' + 'Optimizer = ' + j)\n",
        "            print('Accuracy of Model is: ',accuracy_score(test_image_gen.labels, preds))"
      ],
      "metadata": {
        "execution": {
          "iopub.status.busy": "2022-06-04T11:37:55.534759Z",
          "iopub.execute_input": "2022-06-04T11:37:55.53505Z",
          "iopub.status.idle": "2022-06-04T11:37:55.542082Z",
          "shell.execute_reply.started": "2022-06-04T11:37:55.534991Z",
          "shell.execute_reply": "2022-06-04T11:37:55.54121Z"
        },
        "trusted": true,
        "id": "pTkD_RyoFMtd"
      },
      "execution_count": null,
      "outputs": []
    },
    {
      "cell_type": "markdown",
      "source": [
        "### Holdout testing data"
      ],
      "metadata": {
        "id": "7ekkTiwjFMte"
      }
    },
    {
      "cell_type": "code",
      "source": [
        "# setting up holdout data that is the data not seen by the model during training.\n",
        "# used to evaluate the model performance.\n",
        "bal_holdout_image_gen = image_gen.flow_from_directory(testing_gen_path,\n",
        "                                               target_size=(130, 130),\n",
        "                                               color_mode=\"rgb\",\n",
        "                                               batch_size=batch_size,\n",
        "                                               class_mode=\"binary\",\n",
        "                                              shuffle=False)"
      ],
      "metadata": {
        "execution": {
          "iopub.status.busy": "2022-06-04T11:37:55.543625Z",
          "iopub.execute_input": "2022-06-04T11:37:55.544124Z",
          "iopub.status.idle": "2022-06-04T11:37:55.760562Z",
          "shell.execute_reply.started": "2022-06-04T11:37:55.544085Z",
          "shell.execute_reply": "2022-06-04T11:37:55.759712Z"
        },
        "trusted": true,
        "id": "l-Y7Lh71FMte"
      },
      "execution_count": null,
      "outputs": []
    },
    {
      "cell_type": "markdown",
      "source": [
        "## Defining and optimizing first model"
      ],
      "metadata": {
        "id": "SKXN0RP2FMtg"
      }
    },
    {
      "cell_type": "code",
      "source": [
        "# the first model\n",
        "# the base class is EfficientNet model.\n",
        "base_model1 = tf.keras.applications.efficientnet.EfficientNetB7(input_shape=(130,130,3),include_top=False,weights=\"imagenet\")\n",
        "for layer in base_model1.layers:\n",
        "    layer.trainable=False\n",
        "\n",
        "# the base model is passed to a sequential model.\n",
        "model1=Sequential()\n",
        "model1.add(base_model1)\n",
        "# dropout is implemented to avoid overfitting\n",
        "model1.add(Dropout(0.2))\n",
        "# the output is flattened\n",
        "model1.add(Flatten())\n",
        "model1.add(Dense(128, activation='relu'))\n",
        "model1.add(Dense(128, activation='relu'))\n",
        "# the output of the model is a single neuron with sigmoid as activation function as this is a binary classification.\n",
        "model1.add(Dense(1, activation='sigmoid'))\n",
        "model1.summary()"
      ],
      "metadata": {
        "execution": {
          "iopub.status.busy": "2022-06-04T11:37:55.761807Z",
          "iopub.execute_input": "2022-06-04T11:37:55.762303Z",
          "iopub.status.idle": "2022-06-04T11:38:08.257889Z",
          "shell.execute_reply.started": "2022-06-04T11:37:55.762265Z",
          "shell.execute_reply": "2022-06-04T11:38:08.257219Z"
        },
        "trusted": true,
        "id": "P4AtSlCTFMtg"
      },
      "execution_count": null,
      "outputs": []
    },
    {
      "cell_type": "code",
      "source": [
        "# run grid search\n",
        "optimize(model1)"
      ],
      "metadata": {
        "execution": {
          "iopub.status.busy": "2022-06-03T15:01:08.145433Z",
          "iopub.execute_input": "2022-06-03T15:01:08.146117Z",
          "iopub.status.idle": "2022-06-03T16:03:56.762597Z",
          "shell.execute_reply.started": "2022-06-03T15:01:08.14608Z",
          "shell.execute_reply": "2022-06-03T16:03:56.761895Z"
        },
        "trusted": true,
        "id": "QdJatVnQFMth"
      },
      "execution_count": null,
      "outputs": []
    },
    {
      "cell_type": "markdown",
      "source": [
        "## Optimized First Model"
      ],
      "metadata": {
        "id": "VSokc9WGFMth"
      }
    },
    {
      "cell_type": "code",
      "source": [
        "# fit the model with best loss fucntion and optimizer.\n",
        "base_model1 = tf.keras.applications.efficientnet.EfficientNetB7(input_shape=(130,130,3),include_top=False,weights=\"imagenet\")\n",
        "for layer in base_model1.layers:\n",
        "    layer.trainable=False\n",
        "    \n",
        "model1=Sequential()\n",
        "model1.add(base_model1)\n",
        "model1.add(Dropout(0.2))\n",
        "model1.add(Flatten())\n",
        "model1.add(Dense(128, activation='relu'))\n",
        "model1.add(Dense(128, activation='relu'))\n",
        "model1.add(Dense(1, activation='sigmoid'))\n",
        "model1.summary()\n",
        "\n",
        "model1.compile(loss=\"binary_crossentropy\", optimizer=\"RMSprop\", metrics=[\"accuracy\"])\n",
        "\n",
        "# fit the model\n",
        "results1 = model1.fit(train_image_gen,\n",
        "                             epochs=10,\n",
        "                             validation_data=test_image_gen,\n",
        "                             callbacks=[early_stop])\n",
        "\n",
        "# check the losses \n",
        "history1 = pd.DataFrame(model1.history.history)\n",
        "history1[[\"loss\", \"val_loss\"]].plot()\n",
        "\n",
        "# save the model. \n",
        "model1.save('saved_models/model1.hdf5')"
      ],
      "metadata": {
        "execution": {
          "iopub.status.busy": "2022-06-03T16:04:14.202153Z",
          "iopub.execute_input": "2022-06-03T16:04:14.202411Z",
          "iopub.status.idle": "2022-06-03T16:15:23.766066Z",
          "shell.execute_reply.started": "2022-06-03T16:04:14.202382Z",
          "shell.execute_reply": "2022-06-03T16:15:23.765398Z"
        },
        "trusted": true,
        "id": "VwqySB2fFMth"
      },
      "execution_count": null,
      "outputs": []
    },
    {
      "cell_type": "code",
      "source": [
        "# used to load the model \n",
        "# this can used to later if we dont want to train the model again. \n",
        "model1 = load_model('../input/final-ai-models/model2.hdf5')"
      ],
      "metadata": {
        "execution": {
          "iopub.status.busy": "2022-06-04T11:38:08.259313Z",
          "iopub.execute_input": "2022-06-04T11:38:08.259564Z",
          "iopub.status.idle": "2022-06-04T11:38:09.888777Z",
          "shell.execute_reply.started": "2022-06-04T11:38:08.259529Z",
          "shell.execute_reply": "2022-06-04T11:38:09.88785Z"
        },
        "trusted": true,
        "id": "FVS4nw_sFMti"
      },
      "execution_count": null,
      "outputs": []
    },
    {
      "cell_type": "markdown",
      "source": [
        "### Evaluation first model"
      ],
      "metadata": {
        "id": "dRw4xEPsFMti"
      }
    },
    {
      "cell_type": "code",
      "source": [
        "# evaluate the model\n",
        "e = evaluate_model(model1, bal_holdout_image_gen, 'model 1')\n",
        "e.evaluate()"
      ],
      "metadata": {
        "execution": {
          "iopub.status.busy": "2022-06-04T11:38:09.895048Z",
          "iopub.execute_input": "2022-06-04T11:38:09.897119Z",
          "iopub.status.idle": "2022-06-04T11:38:21.60455Z",
          "shell.execute_reply.started": "2022-06-04T11:38:09.897078Z",
          "shell.execute_reply": "2022-06-04T11:38:21.603847Z"
        },
        "trusted": true,
        "id": "79tOXreRFMtj"
      },
      "execution_count": null,
      "outputs": []
    },
    {
      "cell_type": "markdown",
      "source": [
        "### Bagging using model 1"
      ],
      "metadata": {
        "id": "xn9Kpi7iFMtj"
      }
    },
    {
      "cell_type": "code",
      "source": [
        "# building the bagging ensemble. \n",
        "# save the models in the list\n",
        "models = []\n",
        "# save predictions. \n",
        "preds = []\n",
        "# build three models. \n",
        "# the model is same as the first. \n",
        "for i in range(3):\n",
        "    base_model1 = tf.keras.applications.efficientnet.EfficientNetB7(input_shape=(130,130,3),include_top=False,weights=\"imagenet\")\n",
        "    for layer in base_model1.layers:\n",
        "        layer.trainable=False\n",
        "\n",
        "    model=Sequential()\n",
        "    model.add(base_model1)\n",
        "    model.add(Dropout(0.2))\n",
        "    model.add(Flatten())\n",
        "    model.add(Dense(128, activation='relu'))\n",
        "    model.add(Dense(128, activation='relu'))\n",
        "    model.add(Dense(1, activation='sigmoid'))\n",
        "    model.summary()\n",
        "\n",
        "    model.compile(loss=\"binary_crossentropy\", optimizer=\"RMSprop\", metrics=[\"accuracy\"])\n",
        "\n",
        "    results1 = model.fit(bal_train_image_gen,\n",
        "                                 epochs=5,\n",
        "                                 validation_data=bal_test_image_gen,\n",
        "                                 callbacks=[early_stop])\n",
        "    e = evaluate_model(model, bal_test_image_gen, 'model')\n",
        "    models.append(model)\n",
        "    preds.append(e.create_preds())"
      ],
      "metadata": {
        "execution": {
          "iopub.status.busy": "2022-06-03T17:35:16.921762Z",
          "iopub.execute_input": "2022-06-03T17:35:16.922031Z",
          "iopub.status.idle": "2022-06-03T17:59:21.207057Z",
          "shell.execute_reply.started": "2022-06-03T17:35:16.922001Z",
          "shell.execute_reply": "2022-06-03T17:59:21.206304Z"
        },
        "trusted": true,
        "id": "7WALXlyHFMtj"
      },
      "execution_count": null,
      "outputs": []
    },
    {
      "cell_type": "code",
      "source": [
        "# save the three models. \n",
        "models[0].save('saved_models/m1.hdf5')\n",
        "models[1].save('saved_models/m2.hdf5')\n",
        "models[2].save('saved_models/m3.hdf5')"
      ],
      "metadata": {
        "id": "XDhZnHbMFMtj"
      },
      "execution_count": null,
      "outputs": []
    },
    {
      "cell_type": "code",
      "source": [
        "# load models for future evaluations.\n",
        "m1 = load_model('../input/ensemblemodels/m1.hdf5')\n",
        "m2 = load_model('../input/ensemblemodels/m2.hdf5')\n",
        "m3 = load_model('../input/ensemblemodels/m3.hdf5')\n",
        "models = [m1, m2, m3]"
      ],
      "metadata": {
        "execution": {
          "iopub.status.busy": "2022-06-04T11:39:06.532545Z",
          "iopub.execute_input": "2022-06-04T11:39:06.532965Z",
          "iopub.status.idle": "2022-06-04T11:39:37.760657Z",
          "shell.execute_reply.started": "2022-06-04T11:39:06.532917Z",
          "shell.execute_reply": "2022-06-04T11:39:37.759525Z"
        },
        "trusted": true,
        "id": "kO_x6ENHFMtk"
      },
      "execution_count": null,
      "outputs": []
    },
    {
      "cell_type": "code",
      "source": [
        "# averaging the predictions from the three models. \n",
        "preds = []\n",
        "for m in models:\n",
        "    e = evaluate_model(m, bal_holdout_image_gen, 'model')\n",
        "    preds.append(e.create_preds())\n",
        "\n",
        "preds=np.array(preds)\n",
        "avg = np.mean(preds, axis=0, dtype=int)\n",
        "print(\"Model 1 Bagging Ensemble Accuracy\")\n",
        "accuracy_score(bal_holdout_image_gen.labels, avg)"
      ],
      "metadata": {
        "execution": {
          "iopub.status.busy": "2022-06-04T11:39:37.763364Z",
          "iopub.execute_input": "2022-06-04T11:39:37.76381Z",
          "iopub.status.idle": "2022-06-04T11:40:18.617437Z",
          "shell.execute_reply.started": "2022-06-04T11:39:37.763769Z",
          "shell.execute_reply": "2022-06-04T11:40:18.615313Z"
        },
        "trusted": true,
        "id": "MKCFK2RrFMtk"
      },
      "execution_count": null,
      "outputs": []
    },
    {
      "cell_type": "markdown",
      "source": [
        "## Defining Second Model"
      ],
      "metadata": {
        "id": "4Dkiis10FMtl"
      }
    },
    {
      "cell_type": "code",
      "source": [
        "# define second model.\n",
        "# vgg19 as base model\n",
        "base_model2 = tf.keras.applications.vgg19.VGG19(input_shape=(130,130,3),include_top=False,weights=\"imagenet\")\n",
        "for layer in base_model2.layers:\n",
        "    layer.trainable=False\n",
        "    \n",
        "model2=Sequential()\n",
        "model2.add(base_model2)\n",
        "model2.add(Dropout(0.2))\n",
        "model2.add(Flatten())\n",
        "model2.add(Dense(128, activation='relu'))\n",
        "model2.add(Dense(128, activation='relu'))\n",
        "model2.add(Dense(1, activation='sigmoid'))\n",
        "model2.summary()"
      ],
      "metadata": {
        "execution": {
          "iopub.status.busy": "2022-06-04T11:40:36.701793Z",
          "iopub.execute_input": "2022-06-04T11:40:36.702474Z",
          "iopub.status.idle": "2022-06-04T11:40:37.562561Z",
          "shell.execute_reply.started": "2022-06-04T11:40:36.702432Z",
          "shell.execute_reply": "2022-06-04T11:40:37.561481Z"
        },
        "trusted": true,
        "id": "uCd0Y1M8FMtl"
      },
      "execution_count": null,
      "outputs": []
    },
    {
      "cell_type": "code",
      "source": [
        "# run the grid search.\n",
        "optimize(model2)"
      ],
      "metadata": {
        "execution": {
          "iopub.status.busy": "2022-06-03T16:28:09.055773Z",
          "iopub.execute_input": "2022-06-03T16:28:09.05606Z",
          "iopub.status.idle": "2022-06-03T16:28:09.060152Z",
          "shell.execute_reply.started": "2022-06-03T16:28:09.056029Z",
          "shell.execute_reply": "2022-06-03T16:28:09.05912Z"
        },
        "trusted": true,
        "id": "Ix9BkSmfFMtm"
      },
      "execution_count": null,
      "outputs": []
    },
    {
      "cell_type": "markdown",
      "source": [
        "### Optimized 2nd Model"
      ],
      "metadata": {
        "id": "4yS0-xIrFMtm"
      }
    },
    {
      "cell_type": "code",
      "source": [
        "# fit the model on optimal loss function and optimizer\n",
        "base_model2 = tf.keras.applications.vgg19.VGG19(input_shape=(130,130,3),include_top=False,weights=\"imagenet\")\n",
        "for layer in base_model2.layers:\n",
        "    layer.trainable=False\n",
        "    \n",
        "model2=Sequential()\n",
        "model2.add(base_model2)\n",
        "model2.add(Dropout(0.2))\n",
        "model2.add(Flatten())\n",
        "model2.add(Dense(128, activation='relu'))\n",
        "model2.add(Dense(128, activation='relu'))\n",
        "model2.add(Dense(1, activation='sigmoid'))\n",
        "model2.summary()\n",
        "\n",
        "model2.compile(loss=\"binary_crossentropy\", optimizer=\"adam\", metrics=[\"accuracy\"])\n",
        "\n",
        "results2 = model2.fit(train_image_gen,\n",
        "                             epochs=10,\n",
        "                             validation_data=test_image_gen,\n",
        "                             callbacks=[early_stop], class_weight=train_class_weights)\n",
        "\n",
        "history2 = pd.DataFrame(model2.history.history)\n",
        "history2[[\"loss\", \"val_loss\"]].plot()\n",
        "\n",
        "model2.save('saved_models/model2.hdf5')"
      ],
      "metadata": {
        "execution": {
          "iopub.status.busy": "2022-06-03T16:37:10.410483Z",
          "iopub.execute_input": "2022-06-03T16:37:10.411176Z",
          "iopub.status.idle": "2022-06-03T16:43:15.521948Z",
          "shell.execute_reply.started": "2022-06-03T16:37:10.41113Z",
          "shell.execute_reply": "2022-06-03T16:43:15.521258Z"
        },
        "trusted": true,
        "id": "xmXaqtysFMtm"
      },
      "execution_count": null,
      "outputs": []
    },
    {
      "cell_type": "code",
      "source": [
        "model2 = load_model('../input/final-ai-models/model2.hdf5')"
      ],
      "metadata": {
        "execution": {
          "iopub.status.busy": "2022-06-04T11:40:42.617812Z",
          "iopub.execute_input": "2022-06-04T11:40:42.618538Z",
          "iopub.status.idle": "2022-06-04T11:40:43.996495Z",
          "shell.execute_reply.started": "2022-06-04T11:40:42.618498Z",
          "shell.execute_reply": "2022-06-04T11:40:43.995742Z"
        },
        "trusted": true,
        "id": "NgEOB-nKFMtn"
      },
      "execution_count": null,
      "outputs": []
    },
    {
      "cell_type": "markdown",
      "source": [
        "### Evaluating Model 2"
      ],
      "metadata": {
        "id": "I8fARhELFMtn"
      }
    },
    {
      "cell_type": "code",
      "source": [
        "# evaluate the model\n",
        "e = evaluate_model(model2, bal_holdout_image_gen, 'model 2')\n",
        "e.evaluate()"
      ],
      "metadata": {
        "execution": {
          "iopub.status.busy": "2022-06-04T11:40:47.094828Z",
          "iopub.execute_input": "2022-06-04T11:40:47.095102Z",
          "iopub.status.idle": "2022-06-04T11:40:50.74969Z",
          "shell.execute_reply.started": "2022-06-04T11:40:47.095072Z",
          "shell.execute_reply": "2022-06-04T11:40:50.749021Z"
        },
        "trusted": true,
        "id": "buASdx3CFMtn"
      },
      "execution_count": null,
      "outputs": []
    },
    {
      "cell_type": "markdown",
      "source": [
        "## Stacked Ensemble Model"
      ],
      "metadata": {
        "id": "8A1IZtoJFMtn"
      }
    },
    {
      "cell_type": "code",
      "source": [
        "# load the models\n",
        "model1 = load_model('../input/final-ai-models/model1.hdf5')\n",
        "model2 = load_model('../input/final-ai-models/model2.hdf5')"
      ],
      "metadata": {
        "execution": {
          "iopub.status.busy": "2022-06-03T17:06:31.69388Z",
          "iopub.execute_input": "2022-06-03T17:06:31.694156Z",
          "iopub.status.idle": "2022-06-03T17:06:41.743779Z",
          "shell.execute_reply.started": "2022-06-03T17:06:31.694127Z",
          "shell.execute_reply": "2022-06-03T17:06:41.742998Z"
        },
        "trusted": true,
        "id": "KkSJEaQCFMtn"
      },
      "execution_count": null,
      "outputs": []
    },
    {
      "cell_type": "code",
      "source": [
        "models = [model1, model2] #stacking individual models in a list\n",
        "model_input = tf.keras.Input(shape=image_shape) #takes a list of tensors as input, all of the same shape\n",
        "model_outputs = [model(model_input) for model in models] #collects outputs of models in a list\n",
        "ensemble_output = tf.keras.layers.Average()(model_outputs) #averaging outputs\n",
        "ensemble_model_final = tf.keras.Model(inputs=model_input, outputs=ensemble_output)\n",
        "ensemble_model_final.summary()\n",
        "\n",
        "ensemble_model_final.compile(loss=\"binary_crossentropy\", optimizer=\"adam\", metrics=[\"accuracy\"])\n",
        "\n",
        "ensemble_model_results_final = ensemble_model_final.fit(bal_train_image_gen,\n",
        "                             epochs=10,\n",
        "                             validation_data=bal_test_image_gen,\n",
        "                             callbacks=[early_stop], class_weight=train_class_weights)\n",
        "\n",
        "history2 = pd.DataFrame(ensemble_model_final.history.history)\n",
        "history2[[\"loss\", \"val_loss\"]].plot()\n",
        "\n",
        "ensemble_model_final.save('saved_models/ensemble_model_final.hdf5')"
      ],
      "metadata": {
        "execution": {
          "iopub.status.busy": "2022-06-03T17:08:31.773053Z",
          "iopub.execute_input": "2022-06-03T17:08:31.773337Z"
        },
        "trusted": true,
        "id": "2lOmYDBFFMto"
      },
      "execution_count": null,
      "outputs": []
    },
    {
      "cell_type": "code",
      "source": [
        "ensemble_model_final = load_model('../input/final-ai-models/ensemble_model_final.hdf5')"
      ],
      "metadata": {
        "execution": {
          "iopub.status.busy": "2022-06-04T11:41:00.154887Z",
          "iopub.execute_input": "2022-06-04T11:41:00.155157Z",
          "iopub.status.idle": "2022-06-04T11:41:14.873932Z",
          "shell.execute_reply.started": "2022-06-04T11:41:00.155127Z",
          "shell.execute_reply": "2022-06-04T11:41:14.873167Z"
        },
        "trusted": true,
        "id": "LyKNQVn9FMto"
      },
      "execution_count": null,
      "outputs": []
    },
    {
      "cell_type": "code",
      "source": [
        "# evaluate the model\n",
        "e = evaluate_model(ensemble_model_final, bal_holdout_image_gen, 'ensemble of model 1 and 2')\n",
        "e.evaluate()"
      ],
      "metadata": {
        "execution": {
          "iopub.status.busy": "2022-06-04T11:41:14.8758Z",
          "iopub.execute_input": "2022-06-04T11:41:14.876037Z",
          "iopub.status.idle": "2022-06-04T11:41:31.224731Z",
          "shell.execute_reply.started": "2022-06-04T11:41:14.875993Z",
          "shell.execute_reply": "2022-06-04T11:41:31.224063Z"
        },
        "trusted": true,
        "id": "LwiTmPY6FMto"
      },
      "execution_count": null,
      "outputs": []
    },
    {
      "cell_type": "markdown",
      "source": [
        "## Testing On a Random Image"
      ],
      "metadata": {
        "id": "_A_wo8MlFMtp"
      }
    },
    {
      "cell_type": "code",
      "source": [
        "# testing on random images.\n",
        "\n",
        "# test_dir = \"../input/cell-images-for-detecting-malaria/cell_images/Uninfected/C100P61ThinF_IMG_20150918_144104_cell_128.png\"\n",
        "\n",
        "test_dir = \"../input/cell-images-for-detecting-malaria/cell_images/Parasitized/C100P61ThinF_IMG_20150918_144104_cell_168.png\""
      ],
      "metadata": {
        "execution": {
          "iopub.status.busy": "2022-06-04T11:41:37.219227Z",
          "iopub.execute_input": "2022-06-04T11:41:37.219683Z",
          "iopub.status.idle": "2022-06-04T11:41:37.223606Z",
          "shell.execute_reply.started": "2022-06-04T11:41:37.219643Z",
          "shell.execute_reply": "2022-06-04T11:41:37.222769Z"
        },
        "trusted": true,
        "id": "_gffbMPiFMtp"
      },
      "execution_count": null,
      "outputs": []
    },
    {
      "cell_type": "code",
      "source": [
        "# checking the class assignment.\n",
        "bal_holdout_image_gen.class_indices"
      ],
      "metadata": {
        "execution": {
          "iopub.status.busy": "2022-06-04T11:41:38.318779Z",
          "iopub.execute_input": "2022-06-04T11:41:38.319101Z",
          "iopub.status.idle": "2022-06-04T11:41:38.329804Z",
          "shell.execute_reply.started": "2022-06-04T11:41:38.319064Z",
          "shell.execute_reply": "2022-06-04T11:41:38.329133Z"
        },
        "trusted": true,
        "id": "-2ST-FOXFMtp"
      },
      "execution_count": null,
      "outputs": []
    },
    {
      "cell_type": "code",
      "source": [
        "# a class to predict images\n",
        "class test_image():\n",
        "    def __init__(self, model, image_path):\n",
        "        self.image_path = image_path\n",
        "        self.image_shape = (130,130,3)\n",
        "        self.model = model\n",
        "        \n",
        "    def predict_image(self):\n",
        "        # load the images\n",
        "        test_img = image.load_img(self.image_path, target_size=self.image_shape)\n",
        "        # convert to array\n",
        "        my_test_img_arr = image.img_to_array(test_img)\n",
        "        # make it of right dimensions\n",
        "        my_test_img_arr = np.expand_dims(my_test_img_arr, axis=0)\n",
        "        # make prediction\n",
        "        pred = self.model.predict(my_test_img_arr)\n",
        "\n",
        "        prediction = None\n",
        "        for i in pred:\n",
        "            if i > 0.5:\n",
        "                prediction = 1\n",
        "            else:\n",
        "                prediction = 0\n",
        "        # return the predicted class\n",
        "        return prediction"
      ],
      "metadata": {
        "execution": {
          "iopub.status.busy": "2022-06-04T11:41:40.179131Z",
          "iopub.execute_input": "2022-06-04T11:41:40.179841Z",
          "iopub.status.idle": "2022-06-04T11:41:40.188538Z",
          "shell.execute_reply.started": "2022-06-04T11:41:40.179804Z",
          "shell.execute_reply": "2022-06-04T11:41:40.187663Z"
        },
        "trusted": true,
        "id": "Y8_v6PkbFMtp"
      },
      "execution_count": null,
      "outputs": []
    },
    {
      "cell_type": "code",
      "source": [
        "img = imread(\"../input/cell-images-for-detecting-malaria/cell_images/Parasitized/C100P61ThinF_IMG_20150918_144104_cell_168.png\")\n",
        "plt.imshow(img)"
      ],
      "metadata": {
        "execution": {
          "iopub.status.busy": "2022-06-04T14:07:48.984707Z",
          "iopub.execute_input": "2022-06-04T14:07:48.985137Z",
          "iopub.status.idle": "2022-06-04T14:07:49.257268Z",
          "shell.execute_reply.started": "2022-06-04T14:07:48.985089Z",
          "shell.execute_reply": "2022-06-04T14:07:49.255316Z"
        },
        "trusted": true,
        "id": "i9osHTrZFMtq"
      },
      "execution_count": null,
      "outputs": []
    },
    {
      "cell_type": "code",
      "source": [
        "# test the model on a random image\n",
        "t = test_image(ensemble_model_final, test_dir)\n",
        "t.predict_image()"
      ],
      "metadata": {
        "execution": {
          "iopub.status.busy": "2022-06-04T11:41:40.806776Z",
          "iopub.execute_input": "2022-06-04T11:41:40.807526Z",
          "iopub.status.idle": "2022-06-04T11:41:46.090148Z",
          "shell.execute_reply.started": "2022-06-04T11:41:40.807474Z",
          "shell.execute_reply": "2022-06-04T11:41:46.089458Z"
        },
        "trusted": true,
        "id": "M6fkX-_IFMtq"
      },
      "execution_count": null,
      "outputs": []
    },
    {
      "cell_type": "code",
      "source": [
        "img = imread(\"../input/cell-images-for-detecting-malaria/cell_images/Uninfected/C100P61ThinF_IMG_20150918_144104_cell_128.png\")\n",
        "plt.imshow(img)"
      ],
      "metadata": {
        "execution": {
          "iopub.status.busy": "2022-06-04T14:10:21.407709Z",
          "iopub.execute_input": "2022-06-04T14:10:21.408069Z",
          "iopub.status.idle": "2022-06-04T14:10:21.61616Z",
          "shell.execute_reply.started": "2022-06-04T14:10:21.408039Z",
          "shell.execute_reply": "2022-06-04T14:10:21.615456Z"
        },
        "trusted": true,
        "id": "3YMwIwCMFMtq"
      },
      "execution_count": null,
      "outputs": []
    },
    {
      "cell_type": "markdown",
      "source": [
        "### Note: The code is my own implmentation including the flask implementation. "
      ],
      "metadata": {
        "id": "qeFQygxZFMtr"
      }
    }
  ]
}